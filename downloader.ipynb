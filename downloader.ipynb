{
 "cells": [
  {
   "cell_type": "code",
   "execution_count": null,
   "metadata": {},
   "outputs": [
    {
     "ename": "",
     "evalue": "",
     "output_type": "error",
     "traceback": [
      "\u001b[1;31mCannot execute code, session has been disposed. Please try restarting the Kernel."
     ]
    }
   ],
   "source": [
    "import plotly.express as px"
   ]
  },
  {
   "cell_type": "code",
   "execution_count": 4,
   "metadata": {},
   "outputs": [
    {
     "data": {
      "text/plain": [
       "'/home/e12334178'"
      ]
     },
     "execution_count": 4,
     "metadata": {},
     "output_type": "execute_result"
    }
   ],
   "source": [
    "root =os.getcwd()\n",
    "root"
   ]
  },
  {
   "cell_type": "code",
   "execution_count": 5,
   "metadata": {},
   "outputs": [
    {
     "data": {
      "text/plain": [
       "['.npm',\n",
       " '.vnc',\n",
       " 'Videos',\n",
       " '.config',\n",
       " '.dbus',\n",
       " '.gnupg',\n",
       " '.local',\n",
       " '.bash_history',\n",
       " 'Pictures',\n",
       " 'lectures',\n",
       " 'Templates',\n",
       " '.cache',\n",
       " 'Downloads',\n",
       " '.jupyter',\n",
       " '.Xauthority',\n",
       " 'environment.yml',\n",
       " '.conda',\n",
       " 'shared',\n",
       " '.ipython',\n",
       " 'Documents',\n",
       " '.mozilla',\n",
       " 'Desktop',\n",
       " 'Music',\n",
       " 'Public',\n",
       " '.ICEauthority']"
      ]
     },
     "execution_count": 5,
     "metadata": {},
     "output_type": "execute_result"
    }
   ],
   "source": [
    "os.listdir()"
   ]
  },
  {
   "cell_type": "code",
   "execution_count": 9,
   "metadata": {},
   "outputs": [
    {
     "data": {
      "text/plain": [
       "['land_cover',\n",
       " 'hansen_forest_change',\n",
       " 'asar_signature_database',\n",
       " 'copernicus_ndvi',\n",
       " 'equi7grid',\n",
       " 'dem']"
      ]
     },
     "execution_count": 9,
     "metadata": {},
     "output_type": "execute_result"
    }
   ],
   "source": [
    "auxiliary_data = os.path.join(root, 'shared', 'datasets', 'fe', 'data', 'auxiliary_data')\n",
    "os.chdir(auxiliary_data)\n",
    "os.listdir()"
   ]
  },
  {
   "cell_type": "code",
   "execution_count": 10,
   "metadata": {},
   "outputs": [
    {
     "name": "stdout",
     "output_type": "stream",
     "text": [
      "tar (child): notebook.tar.gz: Cannot open: Permission denied\n",
      "tar (child): Error is not recoverable: exiting now\n",
      "asar_signature_database/\n",
      "asar_signature_database/Signature_Database_updated_02032011.xls\n",
      "tar: notebook.tar.gz: Cannot write: Broken pipe\n",
      "tar: Child returned status 2\n",
      "tar: Error is not recoverable: exiting now\n"
     ]
    }
   ],
   "source": [
    "!tar chvfz notebook.tar.gz *"
   ]
  },
  {
   "cell_type": "code",
   "execution_count": 11,
   "metadata": {},
   "outputs": [
    {
     "data": {
      "text/plain": [
       "['land_cover',\n",
       " 'hansen_forest_change',\n",
       " 'asar_signature_database',\n",
       " 'copernicus_ndvi',\n",
       " 'equi7grid',\n",
       " 'dem']"
      ]
     },
     "execution_count": 11,
     "metadata": {},
     "output_type": "execute_result"
    }
   ],
   "source": [
    "os.listdir()"
   ]
  },
  {
   "cell_type": "code",
   "execution_count": 12,
   "metadata": {},
   "outputs": [],
   "source": [
    "os.chdir('equi7grid')"
   ]
  },
  {
   "cell_type": "code",
   "execution_count": 13,
   "metadata": {},
   "outputs": [
    {
     "data": {
      "text/plain": [
       "['EQUI7_V13_EU_GEOG_TILE_T6.dbf',\n",
       " 'EQUI7_V13_EU_GEOG_TILE_T1.shp',\n",
       " 'EQUI7_V13_EU_GEOG_TILE_T6.sbx',\n",
       " 'EQUI7_V13_EU_GEOG_TILE_T6.prj',\n",
       " 'EQUI7_V13_EU_GEOG_TILE_T6.7z',\n",
       " 'EQUI7_V13_EU_GEOG_TILE_T1.shx',\n",
       " 'EQUI7_V13_EU_GEOG_TILE_T6.shx',\n",
       " 'EQUI7_V13_EU_GEOG_TILE_T1.sbx',\n",
       " 'EQUI7_V13_EU_GEOG_TILE_T1.prj',\n",
       " 'EQUI7_V13_EU_GEOG_TILE_T1.dbf',\n",
       " '.ipynb_checkpoints',\n",
       " 'EQUI7_V13_EU_GEOG_TILE_T6.shp',\n",
       " 'EQUI7_V13_EU_GEOG_TILE_T1.sbn',\n",
       " 'EQUI7_V13_EU_GEOG_TILE_T6.sbn']"
      ]
     },
     "execution_count": 13,
     "metadata": {},
     "output_type": "execute_result"
    }
   ],
   "source": [
    "os.listdir()"
   ]
  },
  {
   "cell_type": "code",
   "execution_count": 14,
   "metadata": {},
   "outputs": [
    {
     "name": "stdout",
     "output_type": "stream",
     "text": [
      "EQUI7_V13_EU_GEOG_TILE_T1.dbf\n",
      "tar (child): notebook.tar.gz: Cannot open: Permission denied\n",
      "tar (child): Error is not recoverable: exiting now\n",
      "tar: notebook.tar.gz: Cannot write: Broken pipe\n",
      "tar: Child returned status 2\n",
      "tar: Error is not recoverable: exiting now\n"
     ]
    }
   ],
   "source": [
    "!tar chvfz notebook.tar.gz *"
   ]
  },
  {
   "cell_type": "code",
   "execution_count": null,
   "metadata": {},
   "outputs": [],
   "source": []
  }
 ],
 "metadata": {
  "kernelspec": {
   "display_name": "afe23w",
   "language": "python",
   "name": "afe23w"
  },
  "language_info": {
   "codemirror_mode": {
    "name": "ipython",
    "version": 3
   },
   "file_extension": ".py",
   "mimetype": "text/x-python",
   "name": "python",
   "nbconvert_exporter": "python",
   "pygments_lexer": "ipython3",
   "version": "3.7.8"
  }
 },
 "nbformat": 4,
 "nbformat_minor": 2
}
